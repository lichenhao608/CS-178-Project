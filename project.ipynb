{
 "cells": [
  {
   "cell_type": "code",
   "execution_count": 42,
   "metadata": {},
   "outputs": [
    {
     "name": "stdout",
     "output_type": "stream",
     "text": [
      "1.0\n",
      "0.7588532883642496\n"
     ]
    }
   ],
   "source": [
    "import numpy as np\n",
    "import random\n",
    "from sklearn.tree import DecisionTreeClassifier\n",
    "from sklearn.cluster import KMeans\n",
    "\n",
    "data = np.loadtxt('semeion.data')\n",
    "random.shuffle(data)\n",
    "x = data[:, :256]\n",
    "imgs = x.reshape((-1, 1, 16, 16))\n",
    "y = data[:, 256:]\n",
    "y = np.where(y == 1)[1]\n",
    "\n",
    "trainX = x[:1000]\n",
    "trainY = y[:1000]\n",
    "\n",
    "testX = x[1000:]\n",
    "testY = y[1000:]\n",
    "\n",
    "clf = DecisionTreeClassifier()\n",
    "clf.fit(trainX, trainY)\n",
    "\n",
    "p = clf.predict(trainX)\n",
    "print(np.sum(p == trainY)/len(trainY))\n",
    "\n",
    "p = clf.predict(testX)\n",
    "print(np.sum(p == testY)/len(testY))"
   ]
  },
  {
   "cell_type": "code",
   "execution_count": 53,
   "metadata": {},
   "outputs": [
    {
     "data": {
      "text/plain": [
       "KMeans(algorithm='auto', copy_x=True, init='k-means++', max_iter=300,\n",
       "    n_clusters=3, n_init=10, n_jobs=None, precompute_distances='auto',\n",
       "    random_state=None, tol=0.0001, verbose=0)"
      ]
     },
     "execution_count": 53,
     "metadata": {},
     "output_type": "execute_result"
    }
   ],
   "source": [
    "km = KMeans(n_clusters=3)\n",
    "km.fit(data[:, :256])"
   ]
  },
  {
   "cell_type": "code",
   "execution_count": 61,
   "metadata": {},
   "outputs": [
    {
     "name": "stdout",
     "output_type": "stream",
     "text": [
      "0:  15\n",
      "1:  5\n",
      "2:  20\n",
      "3:  162\n",
      "4:  9\n",
      "5:  77\n",
      "6:  12\n",
      "7:  0\n",
      "8:  23\n",
      "9:  66\n"
     ]
    }
   ],
   "source": [
    "c0 = np.where(km.labels_ == 0)[0]\n",
    "cl0 = y[c0]\n",
    "print(\"0: \", np.sum(cl0 == 0))\n",
    "print(\"1: \", np.sum(cl0 == 1))\n",
    "print(\"2: \", np.sum(cl0 == 2))\n",
    "print(\"3: \", np.sum(cl0 == 3))\n",
    "print(\"4: \", np.sum(cl0 == 4))\n",
    "print(\"5: \", np.sum(cl0 == 5))\n",
    "print(\"6: \", np.sum(cl0 == 6))\n",
    "print(\"7: \", np.sum(cl0 == 7))\n",
    "print(\"8: \", np.sum(cl0 == 8))\n",
    "print(\"9: \", np.sum(cl0 == 9))"
   ]
  },
  {
   "cell_type": "code",
   "execution_count": 62,
   "metadata": {},
   "outputs": [
    {
     "name": "stdout",
     "output_type": "stream",
     "text": [
      "0:  0\n",
      "1:  206\n",
      "2:  141\n",
      "3:  22\n",
      "4:  28\n",
      "5:  42\n",
      "6:  12\n",
      "7:  129\n",
      "8:  73\n",
      "9:  47\n"
     ]
    }
   ],
   "source": [
    "c1 = np.where(km.labels_ == 1)[0]\n",
    "cl1 = y[c1]\n",
    "print(\"0: \", np.sum(cl1 == 0))\n",
    "print(\"1: \", np.sum(cl1 == 1))\n",
    "print(\"2: \", np.sum(cl1 == 2))\n",
    "print(\"3: \", np.sum(cl1 == 3))\n",
    "print(\"4: \", np.sum(cl1 == 4))\n",
    "print(\"5: \", np.sum(cl1 == 5))\n",
    "print(\"6: \", np.sum(cl1 == 6))\n",
    "print(\"7: \", np.sum(cl1 == 7))\n",
    "print(\"8: \", np.sum(cl1 == 8))\n",
    "print(\"9: \", np.sum(cl1 == 9))"
   ]
  },
  {
   "cell_type": "code",
   "execution_count": 63,
   "metadata": {},
   "outputs": [
    {
     "name": "stdout",
     "output_type": "stream",
     "text": [
      "0:  215\n",
      "1:  0\n",
      "2:  7\n",
      "3:  0\n",
      "4:  124\n",
      "5:  22\n",
      "6:  113\n",
      "7:  0\n",
      "8:  15\n",
      "9:  8\n"
     ]
    }
   ],
   "source": [
    "c2 = np.where(km.labels_ == 2)[0]\n",
    "cl2 = y[c2]\n",
    "print(\"0: \", np.sum(cl2 == 0))\n",
    "print(\"1: \", np.sum(cl2 == 1))\n",
    "print(\"2: \", np.sum(cl2 == 2))\n",
    "print(\"3: \", np.sum(cl2 == 3))\n",
    "print(\"4: \", np.sum(cl2 == 4))\n",
    "print(\"5: \", np.sum(cl2 == 5))\n",
    "print(\"6: \", np.sum(cl2 == 6))\n",
    "print(\"7: \", np.sum(cl2 == 7))\n",
    "print(\"8: \", np.sum(cl2 == 8))\n",
    "print(\"9: \", np.sum(cl2 == 9))"
   ]
  },
  {
   "cell_type": "code",
   "execution_count": null,
   "metadata": {},
   "outputs": [],
   "source": []
  }
 ],
 "metadata": {
  "kernelspec": {
   "display_name": "Python 3",
   "language": "python",
   "name": "python3"
  },
  "language_info": {
   "codemirror_mode": {
    "name": "ipython",
    "version": 3
   },
   "file_extension": ".py",
   "mimetype": "text/x-python",
   "name": "python",
   "nbconvert_exporter": "python",
   "pygments_lexer": "ipython3",
   "version": "3.7.0"
  }
 },
 "nbformat": 4,
 "nbformat_minor": 2
}
