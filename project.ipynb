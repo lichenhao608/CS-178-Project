{
 "cells": [
  {
   "cell_type": "code",
<<<<<<< HEAD
   "execution_count": 1,
=======
   "execution_count": 83,
>>>>>>> 75a2f56f7ec39606127891e1d4c35fd924e67566
   "metadata": {},
   "outputs": [
    {
     "name": "stdout",
     "output_type": "stream",
     "text": [
      "1.0\n",
<<<<<<< HEAD
      "0.7790893760539629\n"
=======
      "0.8094435075885329\n"
>>>>>>> 75a2f56f7ec39606127891e1d4c35fd924e67566
     ]
    }
   ],
   "source": [
    "import numpy as np\n",
    "import random\n",
    "from sklearn.tree import DecisionTreeClassifier\n",
    "from sklearn.cluster import KMeans\n",
    "from sklearn.ensemble import RandomForestClassifier\n",
    "from sklearn.datasets import make_classification\n",
    "from sklearn.decomposition import PCA\n",
    "from sklearn import svm\n",
    "\n",
    "data = np.loadtxt('semeion.data')\n",
    "random.shuffle(data)\n",
    "x = data[:, :256]\n",
    "imgs = x.reshape((-1, 1, 16, 16))\n",
    "y = data[:, 256:]\n",
    "y = np.where(y == 1)[1]\n",
    "\n",
    "pca = PCA(n_components=256)\n",
    "\n",
    "trainX = x[:1000]\n",
    "d_tr = pca.fit_transform(trainX)\n",
    "trainY = y[:1000]\n",
    "\n",
    "testX = x[1000:]\n",
    "d_te = pca.fit_transform(testX)\n",
    "testY = y[1000:]\n",
    "\n",
    "clf = DecisionTreeClassifier()\n",
    "clf.fit(trainX, trainY)\n",
    "\n",
    "p = clf.predict(trainX)\n",
    "print(np.sum(p == trainY)/len(trainY))\n",
    "\n",
    "p = clf.predict(testX)\n",
    "print(np.sum(p == testY)/len(testY))"
   ]
  },
  {
   "cell_type": "code",
<<<<<<< HEAD
   "execution_count": 2,
=======
   "execution_count": 24,
>>>>>>> 75a2f56f7ec39606127891e1d4c35fd924e67566
   "metadata": {},
   "outputs": [
    {
     "data": {
      "text/plain": [
       "KMeans(algorithm='auto', copy_x=True, init='k-means++', max_iter=300,\n",
       "    n_clusters=3, n_init=10, n_jobs=None, precompute_distances='auto',\n",
       "    random_state=None, tol=0.0001, verbose=0)"
      ]
     },
<<<<<<< HEAD
     "execution_count": 2,
=======
     "execution_count": 24,
>>>>>>> 75a2f56f7ec39606127891e1d4c35fd924e67566
     "metadata": {},
     "output_type": "execute_result"
    }
   ],
   "source": [
    "km = KMeans(n_clusters=3)\n",
    "km.fit(data[:, :256])"
   ]
  },
  {
   "cell_type": "code",
<<<<<<< HEAD
   "execution_count": 3,
=======
   "execution_count": 25,
>>>>>>> 75a2f56f7ec39606127891e1d4c35fd924e67566
   "metadata": {},
   "outputs": [
    {
     "name": "stdout",
     "output_type": "stream",
     "text": [
<<<<<<< HEAD
      "0:  5\n",
      "1:  3\n",
      "2:  37\n",
      "3:  153\n",
      "4:  7\n",
      "5:  89\n",
      "6:  14\n",
      "7:  0\n",
      "8:  46\n",
      "9:  67\n"
=======
      "0:  0\n",
      "1:  212\n",
      "2:  72\n",
      "3:  13\n",
      "4:  48\n",
      "5:  51\n",
      "6:  20\n",
      "7:  127\n",
      "8:  56\n",
      "9:  43\n"
>>>>>>> 75a2f56f7ec39606127891e1d4c35fd924e67566
     ]
    }
   ],
   "source": [
    "c0 = np.where(km.labels_ == 0)[0]\n",
    "cl0 = y[c0]\n",
    "print(\"0: \", np.sum(cl0 == 0))\n",
    "print(\"1: \", np.sum(cl0 == 1))\n",
    "print(\"2: \", np.sum(cl0 == 2))\n",
    "print(\"3: \", np.sum(cl0 == 3))\n",
    "print(\"4: \", np.sum(cl0 == 4))\n",
    "print(\"5: \", np.sum(cl0 == 5))\n",
    "print(\"6: \", np.sum(cl0 == 6))\n",
    "print(\"7: \", np.sum(cl0 == 7))\n",
    "print(\"8: \", np.sum(cl0 == 8))\n",
    "print(\"9: \", np.sum(cl0 == 9))"
   ]
  },
  {
   "cell_type": "code",
<<<<<<< HEAD
   "execution_count": 4,
=======
   "execution_count": 26,
>>>>>>> 75a2f56f7ec39606127891e1d4c35fd924e67566
   "metadata": {},
   "outputs": [
    {
     "name": "stdout",
     "output_type": "stream",
     "text": [
<<<<<<< HEAD
      "0:  223\n",
      "1:  0\n",
      "2:  11\n",
      "3:  0\n",
      "4:  96\n",
      "5:  14\n",
      "6:  115\n",
      "7:  0\n",
      "8:  4\n",
      "9:  5\n"
=======
      "0:  249\n",
      "1:  0\n",
      "2:  1\n",
      "3:  0\n",
      "4:  110\n",
      "5:  16\n",
      "6:  84\n",
      "7:  0\n",
      "8:  10\n",
      "9:  6\n"
>>>>>>> 75a2f56f7ec39606127891e1d4c35fd924e67566
     ]
    }
   ],
   "source": [
    "c1 = np.where(km.labels_ == 1)[0]\n",
    "cl1 = y[c1]\n",
    "print(\"0: \", np.sum(cl1 == 0))\n",
    "print(\"1: \", np.sum(cl1 == 1))\n",
    "print(\"2: \", np.sum(cl1 == 2))\n",
    "print(\"3: \", np.sum(cl1 == 3))\n",
    "print(\"4: \", np.sum(cl1 == 4))\n",
    "print(\"5: \", np.sum(cl1 == 5))\n",
    "print(\"6: \", np.sum(cl1 == 6))\n",
    "print(\"7: \", np.sum(cl1 == 7))\n",
    "print(\"8: \", np.sum(cl1 == 8))\n",
    "print(\"9: \", np.sum(cl1 == 9))"
   ]
  },
  {
   "cell_type": "code",
   "execution_count": 27,
   "metadata": {},
   "outputs": [
    {
     "name": "stdout",
     "output_type": "stream",
     "text": [
      "0:  2\n",
      "1:  3\n",
      "2:  114\n",
      "3:  148\n",
      "4:  3\n",
      "5:  81\n",
      "6:  17\n",
      "7:  0\n",
      "8:  50\n",
      "9:  57\n"
     ]
    }
   ],
   "source": [
    "c2 = np.where(km.labels_ == 2)[0]\n",
    "cl2 = y[c2]\n",
    "print(\"0: \", np.sum(cl2 == 0))\n",
    "print(\"1: \", np.sum(cl2 == 1))\n",
    "print(\"2: \", np.sum(cl2 == 2))\n",
    "print(\"3: \", np.sum(cl2 == 3))\n",
    "print(\"4: \", np.sum(cl2 == 4))\n",
    "print(\"5: \", np.sum(cl2 == 5))\n",
    "print(\"6: \", np.sum(cl2 == 6))\n",
    "print(\"7: \", np.sum(cl2 == 7))\n",
    "print(\"8: \", np.sum(cl2 == 8))\n",
    "print(\"9: \", np.sum(cl2 == 9))"
   ]
  },
  {
   "cell_type": "code",
   "execution_count": 82,
   "metadata": {},
   "outputs": [
    {
     "name": "stdout",
     "output_type": "stream",
     "text": [
      "0.998 0.9308600337268128\n"
     ]
    }
   ],
   "source": [
    "clf_rf = RandomForestClassifier(n_estimators=i, max_depth=9, min_samples_split=10, random_state=0)\n",
    "clf_rf.fit(trainX, trainY)\n",
    "print(np.sum(clf_rf.predict(trainX) == trainY)/len(trainY), np.sum(clf_rf.predict(testX) == testY)/len(testY) )"
   ]
  },
  {
   "cell_type": "code",
   "execution_count": 85,
   "metadata": {},
   "outputs": [
    {
     "name": "stdout",
     "output_type": "stream",
     "text": [
      "0.9460370994940978\n",
      "0.995\n"
     ]
    }
   ],
   "source": [
    "svc_model = svm.SVC(kernel='linear')\n",
    "svc_model.fit(trainX, trainY)\n",
    "print(svm.SVC(C=10, kernel='rbf', gamma=0.001).fit(trainX, trainY).score(testX, testY))\n",
    "print(svm.SVC(C=10, kernel='rbf', gamma=0.001).fit(trainX, trainY).score(trainX, trainY))"
   ]
  },
  {
   "cell_type": "code",
   "execution_count": null,
   "metadata": {},
   "outputs": [],
   "source": []
  }
 ],
 "metadata": {
  "kernelspec": {
   "display_name": "Python 3",
   "language": "python",
   "name": "python3"
  },
  "language_info": {
   "codemirror_mode": {
    "name": "ipython",
    "version": 3
   },
   "file_extension": ".py",
   "mimetype": "text/x-python",
   "name": "python",
   "nbconvert_exporter": "python",
   "pygments_lexer": "ipython3",
   "version": "3.6.7"
  }
 },
 "nbformat": 4,
 "nbformat_minor": 2
}
