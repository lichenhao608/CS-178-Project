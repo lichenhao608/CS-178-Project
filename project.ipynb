{
 "cells": [
  {
   "cell_type": "code",
   "execution_count": 78,
   "metadata": {},
   "outputs": [
    {
     "name": "stdout",
     "output_type": "stream",
     "text": [
      "(593, 256)\n"
     ]
    }
   ],
   "source": [
    "import numpy as np\n",
    "from sklearn.decomposition import PCA\n",
    "import matplotlib.pyplot as plt\n",
    "from sklearn.cluster import KMeans\n",
    "\n",
    "data = np.loadtxt('semeion.data')\n",
    "X = data[0:1000, 0:256]\n",
    "Y = data[0:1000, 256:]\n",
    "X_t = data[1000:1593, 0:256]\n",
    "Y_t = data[1000:1593, 256:]\n",
    "print(X_t.shape)\n",
    "Y_tr = []"
   ]
  },
  {
   "cell_type": "code",
   "execution_count": 79,
   "metadata": {},
   "outputs": [
    {
     "name": "stdout",
     "output_type": "stream",
     "text": [
      "306\n",
      "119\n"
     ]
    }
   ],
   "source": [
    "pca = PCA(n_components=64)\n",
    "d = pca.fit_transform(X)\n",
    "kmeans = KMeans(n_clusters=8, random_state=0).fit(X)\n",
    "Y_pre = kmeans.predict(X).reshape((-1,1))\n",
    "Y = np.where(Y==1)[1].reshape((-1,1))\n",
    "print(np.sum(Y==Y_pre))\n",
    "\n",
    "d_t = pca.fit_transform(X_t)\n",
    "# kmeans_t = KMeans(n_clusters=10, random_state=0).fit(X_t)\n",
    "Y_t_pre = kmeans.predict(X_t).reshape((-1,1))\n",
    "Y_t = np.where(Y_t==1)[1].reshape((-1,1))\n",
    "print(np.sum(Y_t==Y_t_pre))"
   ]
  },
  {
   "cell_type": "code",
   "execution_count": null,
   "metadata": {},
   "outputs": [],
   "source": []
  },
  {
   "cell_type": "code",
   "execution_count": null,
   "metadata": {},
   "outputs": [],
   "source": []
  }
 ],
 "metadata": {
  "kernelspec": {
   "display_name": "Python 3",
   "language": "python",
   "name": "python3"
  },
  "language_info": {
   "codemirror_mode": {
    "name": "ipython",
    "version": 3
   },
   "file_extension": ".py",
   "mimetype": "text/x-python",
   "name": "python",
   "nbconvert_exporter": "python",
   "pygments_lexer": "ipython3",
   "version": "3.7.0"
  }
 },
 "nbformat": 4,
 "nbformat_minor": 2
}
